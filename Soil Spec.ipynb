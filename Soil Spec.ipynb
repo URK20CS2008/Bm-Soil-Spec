{
 "cells": [
  {
   "cell_type": "markdown",
   "metadata": {},
   "source": [
    "Linear Regression "
   ]
  },
  {
   "cell_type": "code",
   "execution_count": 42,
   "metadata": {},
   "outputs": [
    {
     "name": "stdout",
     "output_type": "stream",
     "text": [
      "Mean Squared Error: 5.640035803205244e-25\n",
      "R-squared: 1.0\n"
     ]
    }
   ],
   "source": [
    "import pandas as pd\n",
    "from sklearn.model_selection import train_test_split\n",
    "from sklearn.linear_model import LinearRegression\n",
    "from sklearn.metrics import mean_squared_error, r2_score\n",
    "import joblib\n",
    "\n",
    "# Load the dataset from CSV file\n",
    "dataset = pd.read_excel(\"Book1.xlsx\")\n",
    "\n",
    "X = dataset.iloc[:, :18] \n",
    "y = dataset.iloc[:, :3] \n",
    "\n",
    "X_train, X_test, y_train, y_test = train_test_split(X, y, test_size=0.2, random_state=42)\n",
    "\n",
    "model = LinearRegression()\n",
    "model.fit(X_train, y_train)\n",
    "\n",
    "# Save the trained model to a file\n",
    "joblib.dump(model, 'linear_regression_model.pkl')\n",
    "\n",
    "y_pred = model.predict(X_test)\n",
    "\n",
    "mse = mean_squared_error(y_test, y_pred)\n",
    "r2 = r2_score(y_test, y_pred)\n",
    "\n",
    "print(\"Mean Squared Error:\", mse)\n",
    "print(\"R-squared:\", r2)\n"
   ]
  },
  {
   "cell_type": "code",
   "execution_count": 40,
   "metadata": {},
   "outputs": [
    {
     "name": "stdout",
     "output_type": "stream",
     "text": [
      "Predicted N, P, K values: [[567.86 193.79 480.59]]\n"
     ]
    },
    {
     "name": "stderr",
     "output_type": "stream",
     "text": [
      "c:\\Users\\ASUS\\AppData\\Local\\Programs\\Python\\Python38\\lib\\site-packages\\sklearn\\base.py:439: UserWarning: X does not have valid feature names, but LinearRegression was fitted with feature names\n",
      "  warnings.warn(\n"
     ]
    }
   ],
   "source": [
    "import pandas as pd\n",
    "import joblib\n",
    "\n",
    "\n",
    "model = joblib.load('linear_regression_model.pkl')\n",
    "\n",
    "\n",
    "input_values = [567.86, 193.79, 480.59, 160.85, 233.49, 415.82, 44.5, 52.44, 891.59, 32.45, 193.34, 13.11, 63.13, 42.49, 72.95, 33.54, 1.73, 2.55]\n",
    "\n",
    "\n",
    "input_values_reshaped = pd.DataFrame([input_values])\n",
    "\n",
    "predicted_npk_values = model.predict(input_values_reshaped)\n",
    "\n",
    "print(\"Predicted N, P, K values:\", predicted_npk_values)\n"
   ]
  },
  {
   "cell_type": "markdown",
   "metadata": {},
   "source": [
    "multivariate_regression_model"
   ]
  },
  {
   "cell_type": "code",
   "execution_count": 45,
   "metadata": {},
   "outputs": [
    {
     "name": "stdout",
     "output_type": "stream",
     "text": [
      "Mean Squared Error: 4794.03003226829\n",
      "R-squared: -9.303347494398468\n"
     ]
    }
   ],
   "source": [
    "import pandas as pd\n",
    "from sklearn.model_selection import train_test_split\n",
    "from sklearn.linear_model import LinearRegression\n",
    "from sklearn.metrics import mean_squared_error, r2_score\n",
    "import joblib\n",
    "\n",
    "dataset = pd.read_excel(\"Book1.xlsx\")\n",
    "\n",
    "X = dataset.iloc[:, :18]  # Assuming first 18 columns are input features\n",
    "y = dataset.iloc[:, 18:]  # Assuming columns after the first 18 are output features (N, P, K)\n",
    "\n",
    "X_train, X_test, y_train, y_test = train_test_split(X, y, test_size=0.2, random_state=42)\n",
    "\n",
    "\n",
    "model = LinearRegression()\n",
    "model.fit(X_train, y_train)\n",
    "\n",
    "\n",
    "joblib.dump(model, 'multivariate_regression_model.pkl')\n",
    "\n",
    "\n",
    "y_pred = model.predict(X_test)\n",
    "mse = mean_squared_error(y_test, y_pred)\n",
    "r2 = r2_score(y_test, y_pred)\n",
    "\n",
    "print(\"Mean Squared Error:\", mse)\n",
    "print(\"R-squared:\", r2)\n"
   ]
  },
  {
   "cell_type": "code",
   "execution_count": 46,
   "metadata": {},
   "outputs": [
    {
     "name": "stdout",
     "output_type": "stream",
     "text": [
      "Predicted N, P, K values: [[293.74147552  23.57141388 162.34773822]]\n"
     ]
    },
    {
     "name": "stderr",
     "output_type": "stream",
     "text": [
      "c:\\Users\\ASUS\\AppData\\Local\\Programs\\Python\\Python38\\lib\\site-packages\\sklearn\\base.py:439: UserWarning: X does not have valid feature names, but LinearRegression was fitted with feature names\n",
      "  warnings.warn(\n"
     ]
    }
   ],
   "source": [
    "import pandas as pd\n",
    "import joblib\n",
    "\n",
    "model = joblib.load('multivariate_regression_model.pkl')\n",
    "\n",
    "input_values = [567.86, 193.79, 480.59, 160.85, 233.49, 415.82, 44.5, 52.44, 891.59, 32.45, 193.34, 13.11, 63.13, 42.49, 72.95, 33.54, 1.73, 2.55]\n",
    "\n",
    "input_values_reshaped = pd.DataFrame([input_values])\n",
    "\n",
    "predicted_npk_values = model.predict(input_values_reshaped)\n",
    "\n",
    "print(\"Predicted N, P, K values:\", predicted_npk_values)\n"
   ]
  },
  {
   "cell_type": "markdown",
   "metadata": {},
   "source": [
    "RandomForestRegressor"
   ]
  },
  {
   "cell_type": "code",
   "execution_count": 32,
   "metadata": {},
   "outputs": [
    {
     "name": "stdout",
     "output_type": "stream",
     "text": [
      "Mean Squared Error: 391.38170701620123\n",
      "R-squared: 0.7362982921171862\n"
     ]
    }
   ],
   "source": [
    "import pandas as pd\n",
    "from sklearn.model_selection import train_test_split\n",
    "from sklearn.ensemble import RandomForestRegressor\n",
    "from sklearn.metrics import mean_squared_error, r2_score\n",
    "import joblib\n",
    "\n",
    "\n",
    "dataset = pd.read_excel(\"Book1.xlsx\")\n",
    "\n",
    "X = dataset.iloc[:, :18]  # Assuming first 18 columns are input features\n",
    "y = dataset.iloc[:, 18:]  # Assuming columns after the first 18 are output features (N, P, K)\n",
    "\n",
    "X_train, X_test, y_train, y_test = train_test_split(X, y, test_size=0.2, random_state=42)\n",
    "\n",
    "model = RandomForestRegressor(n_estimators=100, random_state=42)  \n",
    "model.fit(X_train, y_train)\n",
    "\n",
    "joblib.dump(model, 'random_forest_regression_model.pkl')\n",
    "\n",
    "y_pred = model.predict(X_test)\n",
    "\n",
    "mse = mean_squared_error(y_test, y_pred)\n",
    "r2 = r2_score(y_test, y_pred)\n",
    "\n",
    "print(\"Mean Squared Error:\", mse)\n",
    "print(\"R-squared:\", r2)\n"
   ]
  },
  {
   "cell_type": "code",
   "execution_count": 47,
   "metadata": {},
   "outputs": [
    {
     "name": "stdout",
     "output_type": "stream",
     "text": [
      "Predicted N, P, K values: [[288.48652333  22.70469433 175.57334   ]]\n"
     ]
    },
    {
     "name": "stderr",
     "output_type": "stream",
     "text": [
      "c:\\Users\\ASUS\\AppData\\Local\\Programs\\Python\\Python38\\lib\\site-packages\\sklearn\\base.py:439: UserWarning: X does not have valid feature names, but RandomForestRegressor was fitted with feature names\n",
      "  warnings.warn(\n"
     ]
    }
   ],
   "source": [
    "import pandas as pd\n",
    "import joblib\n",
    "\n",
    "model = joblib.load('random_forest_regression_model.pkl')\n",
    "\n",
    "input_values = [567.86, 193.79, 480.59, 160.85, 233.49, 415.82, 44.5, 52.44, 891.59, 32.45, 193.34, 13.11, 63.13, 42.49, 72.95, 33.54, 1.73, 2.55]\n",
    "\n",
    "input_values_reshaped = pd.DataFrame([input_values])\n",
    "\n",
    "predicted_npk_values = model.predict(input_values_reshaped)\n",
    "\n",
    "print(\"Predicted N, P, K values:\", predicted_npk_values)\n"
   ]
  }
 ],
 "metadata": {
  "kernelspec": {
   "display_name": "Python 3",
   "language": "python",
   "name": "python3"
  },
  "language_info": {
   "codemirror_mode": {
    "name": "ipython",
    "version": 3
   },
   "file_extension": ".py",
   "mimetype": "text/x-python",
   "name": "python",
   "nbconvert_exporter": "python",
   "pygments_lexer": "ipython3",
   "version": "3.8.0"
  }
 },
 "nbformat": 4,
 "nbformat_minor": 2
}
